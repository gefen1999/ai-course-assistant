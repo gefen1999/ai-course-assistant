{
 "cells": [
  {
   "metadata": {
    "ExecuteTime": {
     "end_time": "2025-10-03T17:21:00.716670Z",
     "start_time": "2025-10-03T17:20:59.036791Z"
    }
   },
   "cell_type": "code",
   "source": "pip install google-generativeai",
   "id": "bc9b26902c8c1f7d",
   "outputs": [
    {
     "name": "stdout",
     "output_type": "stream",
     "text": [
      "Requirement already satisfied: google-generativeai in /home/student/.virtualenvs/final-project/lib/python3.10/site-packages (0.8.5)\r\n",
      "Requirement already satisfied: google-ai-generativelanguage==0.6.15 in /home/student/.virtualenvs/final-project/lib/python3.10/site-packages (from google-generativeai) (0.6.15)\r\n",
      "Requirement already satisfied: google-api-core in /home/student/.virtualenvs/final-project/lib/python3.10/site-packages (from google-generativeai) (2.25.1)\r\n",
      "Requirement already satisfied: google-api-python-client in /home/student/.virtualenvs/final-project/lib/python3.10/site-packages (from google-generativeai) (2.181.0)\r\n",
      "Requirement already satisfied: google-auth>=2.15.0 in /home/student/.virtualenvs/final-project/lib/python3.10/site-packages (from google-generativeai) (2.40.3)\r\n",
      "Requirement already satisfied: protobuf in /home/student/.virtualenvs/final-project/lib/python3.10/site-packages (from google-generativeai) (5.29.5)\r\n",
      "Requirement already satisfied: pydantic in /home/student/.virtualenvs/final-project/lib/python3.10/site-packages (from google-generativeai) (2.11.7)\r\n",
      "Requirement already satisfied: tqdm in /home/student/.virtualenvs/final-project/lib/python3.10/site-packages (from google-generativeai) (4.67.1)\r\n",
      "Requirement already satisfied: typing-extensions in /home/student/.virtualenvs/final-project/lib/python3.10/site-packages (from google-generativeai) (4.14.1)\r\n",
      "Requirement already satisfied: proto-plus<2.0.0dev,>=1.22.3 in /home/student/.virtualenvs/final-project/lib/python3.10/site-packages (from google-ai-generativelanguage==0.6.15->google-generativeai) (1.26.1)\r\n",
      "Requirement already satisfied: googleapis-common-protos<2.0.0,>=1.56.2 in /home/student/.virtualenvs/final-project/lib/python3.10/site-packages (from google-api-core->google-generativeai) (1.70.0)\r\n",
      "Requirement already satisfied: requests<3.0.0,>=2.18.0 in /home/student/.virtualenvs/final-project/lib/python3.10/site-packages (from google-api-core->google-generativeai) (2.32.4)\r\n",
      "Requirement already satisfied: grpcio<2.0.0,>=1.33.2 in /home/student/.virtualenvs/final-project/lib/python3.10/site-packages (from google-api-core[grpc]!=2.0.*,!=2.1.*,!=2.10.*,!=2.2.*,!=2.3.*,!=2.4.*,!=2.5.*,!=2.6.*,!=2.7.*,!=2.8.*,!=2.9.*,<3.0.0dev,>=1.34.1->google-ai-generativelanguage==0.6.15->google-generativeai) (1.74.0)\r\n",
      "Requirement already satisfied: grpcio-status<2.0.0,>=1.33.2 in /home/student/.virtualenvs/final-project/lib/python3.10/site-packages (from google-api-core[grpc]!=2.0.*,!=2.1.*,!=2.10.*,!=2.2.*,!=2.3.*,!=2.4.*,!=2.5.*,!=2.6.*,!=2.7.*,!=2.8.*,!=2.9.*,<3.0.0dev,>=1.34.1->google-ai-generativelanguage==0.6.15->google-generativeai) (1.71.2)\r\n",
      "Requirement already satisfied: cachetools<6.0,>=2.0.0 in /home/student/.virtualenvs/final-project/lib/python3.10/site-packages (from google-auth>=2.15.0->google-generativeai) (5.5.2)\r\n",
      "Requirement already satisfied: pyasn1-modules>=0.2.1 in /home/student/.virtualenvs/final-project/lib/python3.10/site-packages (from google-auth>=2.15.0->google-generativeai) (0.4.2)\r\n",
      "Requirement already satisfied: rsa<5,>=3.1.4 in /home/student/.virtualenvs/final-project/lib/python3.10/site-packages (from google-auth>=2.15.0->google-generativeai) (4.9.1)\r\n",
      "Requirement already satisfied: charset_normalizer<4,>=2 in /home/student/.virtualenvs/final-project/lib/python3.10/site-packages (from requests<3.0.0,>=2.18.0->google-api-core->google-generativeai) (3.4.2)\r\n",
      "Requirement already satisfied: idna<4,>=2.5 in /home/student/.virtualenvs/final-project/lib/python3.10/site-packages (from requests<3.0.0,>=2.18.0->google-api-core->google-generativeai) (3.10)\r\n",
      "Requirement already satisfied: urllib3<3,>=1.21.1 in /home/student/.virtualenvs/final-project/lib/python3.10/site-packages (from requests<3.0.0,>=2.18.0->google-api-core->google-generativeai) (2.5.0)\r\n",
      "Requirement already satisfied: certifi>=2017.4.17 in /home/student/.virtualenvs/final-project/lib/python3.10/site-packages (from requests<3.0.0,>=2.18.0->google-api-core->google-generativeai) (2025.8.3)\r\n",
      "Requirement already satisfied: pyasn1>=0.1.3 in /home/student/.virtualenvs/final-project/lib/python3.10/site-packages (from rsa<5,>=3.1.4->google-auth>=2.15.0->google-generativeai) (0.6.1)\r\n",
      "Requirement already satisfied: httplib2<1.0.0,>=0.19.0 in /home/student/.virtualenvs/final-project/lib/python3.10/site-packages (from google-api-python-client->google-generativeai) (0.22.0)\r\n",
      "Requirement already satisfied: google-auth-httplib2<1.0.0,>=0.2.0 in /home/student/.virtualenvs/final-project/lib/python3.10/site-packages (from google-api-python-client->google-generativeai) (0.2.0)\r\n",
      "Requirement already satisfied: uritemplate<5,>=3.0.1 in /home/student/.virtualenvs/final-project/lib/python3.10/site-packages (from google-api-python-client->google-generativeai) (4.2.0)\r\n",
      "Requirement already satisfied: pyparsing!=3.0.0,!=3.0.1,!=3.0.2,!=3.0.3,<4,>=2.4.2 in /home/student/.virtualenvs/final-project/lib/python3.10/site-packages (from httplib2<1.0.0,>=0.19.0->google-api-python-client->google-generativeai) (3.2.3)\r\n",
      "Requirement already satisfied: annotated-types>=0.6.0 in /home/student/.virtualenvs/final-project/lib/python3.10/site-packages (from pydantic->google-generativeai) (0.7.0)\r\n",
      "Requirement already satisfied: pydantic-core==2.33.2 in /home/student/.virtualenvs/final-project/lib/python3.10/site-packages (from pydantic->google-generativeai) (2.33.2)\r\n",
      "Requirement already satisfied: typing-inspection>=0.4.0 in /home/student/.virtualenvs/final-project/lib/python3.10/site-packages (from pydantic->google-generativeai) (0.4.1)\r\n",
      "\r\n",
      "\u001B[1m[\u001B[0m\u001B[34;49mnotice\u001B[0m\u001B[1;39;49m]\u001B[0m\u001B[39;49m A new release of pip is available: \u001B[0m\u001B[31;49m25.1.1\u001B[0m\u001B[39;49m -> \u001B[0m\u001B[32;49m25.2\u001B[0m\r\n",
      "\u001B[1m[\u001B[0m\u001B[34;49mnotice\u001B[0m\u001B[1;39;49m]\u001B[0m\u001B[39;49m To update, run: \u001B[0m\u001B[32;49m/home/student/.virtualenvs/final-project/bin/python3 -m pip install --upgrade pip\u001B[0m\r\n",
      "Note: you may need to restart the kernel to use updated packages.\n"
     ]
    }
   ],
   "execution_count": 26
  },
  {
   "metadata": {
    "ExecuteTime": {
     "end_time": "2025-10-03T17:21:00.873747Z",
     "start_time": "2025-10-03T17:21:00.870453Z"
    }
   },
   "cell_type": "code",
   "source": [
    "import zipfile\n",
    "import os\n",
    "import json\n",
    "import google.generativeai as genai"
   ],
   "id": "2794770d2660038d",
   "outputs": [],
   "execution_count": 27
  },
  {
   "metadata": {
    "ExecuteTime": {
     "end_time": "2025-10-03T17:21:01.036557Z",
     "start_time": "2025-10-03T17:21:01.033645Z"
    }
   },
   "cell_type": "code",
   "source": [
    "with open(r\"src/api_keys.json\") as f:\n",
    "        api_keys = json.load(f)"
   ],
   "id": "61bebafa7ed73a71",
   "outputs": [],
   "execution_count": 28
  },
  {
   "metadata": {
    "ExecuteTime": {
     "end_time": "2025-10-03T17:21:03.135959Z",
     "start_time": "2025-10-03T17:21:01.474823Z"
    }
   },
   "cell_type": "code",
   "source": "pip install openai",
   "id": "1a6a0edb4f478600",
   "outputs": [
    {
     "name": "stdout",
     "output_type": "stream",
     "text": [
      "Requirement already satisfied: openai in /home/student/.virtualenvs/final-project/lib/python3.10/site-packages (1.106.1)\r\n",
      "Requirement already satisfied: anyio<5,>=3.5.0 in /home/student/.virtualenvs/final-project/lib/python3.10/site-packages (from openai) (4.10.0)\r\n",
      "Requirement already satisfied: distro<2,>=1.7.0 in /home/student/.virtualenvs/final-project/lib/python3.10/site-packages (from openai) (1.9.0)\r\n",
      "Requirement already satisfied: httpx<1,>=0.23.0 in /home/student/.virtualenvs/final-project/lib/python3.10/site-packages (from openai) (0.28.1)\r\n",
      "Requirement already satisfied: jiter<1,>=0.4.0 in /home/student/.virtualenvs/final-project/lib/python3.10/site-packages (from openai) (0.10.0)\r\n",
      "Requirement already satisfied: pydantic<3,>=1.9.0 in /home/student/.virtualenvs/final-project/lib/python3.10/site-packages (from openai) (2.11.7)\r\n",
      "Requirement already satisfied: sniffio in /home/student/.virtualenvs/final-project/lib/python3.10/site-packages (from openai) (1.3.1)\r\n",
      "Requirement already satisfied: tqdm>4 in /home/student/.virtualenvs/final-project/lib/python3.10/site-packages (from openai) (4.67.1)\r\n",
      "Requirement already satisfied: typing-extensions<5,>=4.11 in /home/student/.virtualenvs/final-project/lib/python3.10/site-packages (from openai) (4.14.1)\r\n",
      "Requirement already satisfied: exceptiongroup>=1.0.2 in /home/student/.virtualenvs/final-project/lib/python3.10/site-packages (from anyio<5,>=3.5.0->openai) (1.3.0)\r\n",
      "Requirement already satisfied: idna>=2.8 in /home/student/.virtualenvs/final-project/lib/python3.10/site-packages (from anyio<5,>=3.5.0->openai) (3.10)\r\n",
      "Requirement already satisfied: certifi in /home/student/.virtualenvs/final-project/lib/python3.10/site-packages (from httpx<1,>=0.23.0->openai) (2025.8.3)\r\n",
      "Requirement already satisfied: httpcore==1.* in /home/student/.virtualenvs/final-project/lib/python3.10/site-packages (from httpx<1,>=0.23.0->openai) (1.0.9)\r\n",
      "Requirement already satisfied: h11>=0.16 in /home/student/.virtualenvs/final-project/lib/python3.10/site-packages (from httpcore==1.*->httpx<1,>=0.23.0->openai) (0.16.0)\r\n",
      "Requirement already satisfied: annotated-types>=0.6.0 in /home/student/.virtualenvs/final-project/lib/python3.10/site-packages (from pydantic<3,>=1.9.0->openai) (0.7.0)\r\n",
      "Requirement already satisfied: pydantic-core==2.33.2 in /home/student/.virtualenvs/final-project/lib/python3.10/site-packages (from pydantic<3,>=1.9.0->openai) (2.33.2)\r\n",
      "Requirement already satisfied: typing-inspection>=0.4.0 in /home/student/.virtualenvs/final-project/lib/python3.10/site-packages (from pydantic<3,>=1.9.0->openai) (0.4.1)\r\n",
      "\r\n",
      "\u001B[1m[\u001B[0m\u001B[34;49mnotice\u001B[0m\u001B[1;39;49m]\u001B[0m\u001B[39;49m A new release of pip is available: \u001B[0m\u001B[31;49m25.1.1\u001B[0m\u001B[39;49m -> \u001B[0m\u001B[32;49m25.2\u001B[0m\r\n",
      "\u001B[1m[\u001B[0m\u001B[34;49mnotice\u001B[0m\u001B[1;39;49m]\u001B[0m\u001B[39;49m To update, run: \u001B[0m\u001B[32;49m/home/student/.virtualenvs/final-project/bin/python3 -m pip install --upgrade pip\u001B[0m\r\n",
      "Note: you may need to restart the kernel to use updated packages.\n"
     ]
    }
   ],
   "execution_count": 29
  },
  {
   "metadata": {
    "ExecuteTime": {
     "end_time": "2025-10-03T17:21:03.304221Z",
     "start_time": "2025-10-03T17:21:03.297741Z"
    }
   },
   "cell_type": "code",
   "source": [
    "import os\n",
    "from openai import AzureOpenAI\n",
    "\n",
    "params = ['endpoint', 'deployment', 'subscription_key', 'api_version']\n",
    "for p in params:\n",
    "    if p not in api_keys:\n",
    "        raise ValueError(f\"Missing '{p}' in api_keys.json\")\n",
    "\n",
    "endpoint = api_keys[\"endpoint\"]\n",
    "deployment = api_keys[\"deployment\"]\n",
    "subscription_key = api_keys[\"subscription_key\"]\n",
    "api_version = api_keys[\"api_version\"]\n",
    "\n",
    "def ask_gpt(question, options):\n",
    "    prompt = f\"Question: {question}\\n\"\n",
    "    for idx, opt in enumerate(options):\n",
    "        if opt.strip():\n",
    "            prompt += f\"{chr(ord('A')+idx)}. {opt}\\n\"\n",
    "    prompt += \"Answer with the letter (A, B, C, or D) of the correct option only.\"\n",
    "    print(prompt)\n",
    "    client = AzureOpenAI(\n",
    "        api_version=api_version,\n",
    "        azure_endpoint=endpoint,\n",
    "        api_key=subscription_key,\n",
    "    )\n",
    "\n",
    "    response = client.chat.completions.create(\n",
    "        messages=[\n",
    "            {\n",
    "                \"role\": \"user\",\n",
    "                \"content\": prompt,\n",
    "            }\n",
    "        ],\n",
    "        model=deployment,\n",
    "        temperature=0,\n",
    "    )\n",
    "    answer = response.choices[0].message.content.strip().upper()\n",
    "    #print(response.choices[0].message.content)\n",
    "    #print(\"ChatGPT response:\\n\", answer)  # Debug print\n",
    "    for letter in [\"A\", \"B\", \"C\", \"D\"]:\n",
    "        if answer.startswith(letter):\n",
    "            return letter\n",
    "    return \"A\"  # fallback\n"
   ],
   "id": "2f9feff5c037b224",
   "outputs": [],
   "execution_count": 30
  },
  {
   "metadata": {
    "ExecuteTime": {
     "end_time": "2025-10-03T17:21:03.777719Z",
     "start_time": "2025-10-03T17:21:03.772984Z"
    }
   },
   "cell_type": "code",
   "source": [
    "def process_qa_file(filepath):\n",
    "    correct = 0\n",
    "    total = 0\n",
    "    with open(filepath, 'r', encoding='utf-8-sig', errors='replace') as f:\n",
    "        for line in f:\n",
    "            if line.strip():\n",
    "                qa = json.loads(line)\n",
    "                model_answer = ask_gpt(qa['question'], qa['options'])\n",
    "                print(f\"Q: {qa['question']}\\nModel answer: {model_answer}, Correct answer: {qa['correct_answer']}\\n\")\n",
    "                if model_answer == qa['correct_answer']:\n",
    "                    correct += 1\n",
    "                total += 1\n",
    "    return correct, total"
   ],
   "id": "8fcfa6bdb06c1724",
   "outputs": [],
   "execution_count": 31
  },
  {
   "metadata": {},
   "cell_type": "code",
   "source": [
    "import time\n",
    "zip_path = 'Q&A.zip'\n",
    "extract_dir = 'extracted_qa'\n",
    "\n",
    "# Unzip files\n",
    "with zipfile.ZipFile(zip_path, 'r') as zip_ref:\n",
    "    zip_ref.extractall(extract_dir)\n",
    "print(\"Extracted files:\", os.listdir(extract_dir))\n",
    "\n",
    "results = {}\n",
    "subdir = os.path.join(extract_dir, 'Q&A', 'Q&A')\n",
    "print(\"Files in subdir:\", os.listdir(subdir))\n",
    "for fname in os.listdir(subdir):\n",
    "    fpath = os.path.join(subdir, fname)\n",
    "    print(f\"Checking file: {fpath}\")  # Debug print\n",
    "    if os.path.isfile(fpath) and fname.endswith('.jsonl'):\n",
    "        print(f\"Processing JSON file: {fname}\")  # Debug print\n",
    "        correct, total = process_qa_file(fpath)\n",
    "        print(f\"Result for {fname}: {correct} correct out of {total}\")  # Debug print\n",
    "        results[fname] = {'correct': correct, 'total': total}\n",
    "        #print(\"Waiting a minute to respect quota...\")\n",
    "        #time.sleep(60)  # Wait 60 seconds before next file\n",
    "    else:\n",
    "        print(f\"Skipped: {fname}\")  # Debug print\n",
    "\n",
    "with open(\"baseline_results.json\", 'w', encoding='utf-8') as f:\n",
    "    json.dump(results, f, indent=4)\n"
   ],
   "id": "77791936707ac42b",
   "outputs": [],
   "execution_count": null
  }
 ],
 "metadata": {
  "kernelspec": {
   "display_name": "Python 3",
   "language": "python",
   "name": "python3"
  },
  "language_info": {
   "codemirror_mode": {
    "name": "ipython",
    "version": 2
   },
   "file_extension": ".py",
   "mimetype": "text/x-python",
   "name": "python",
   "nbconvert_exporter": "python",
   "pygments_lexer": "ipython2",
   "version": "2.7.6"
  }
 },
 "nbformat": 4,
 "nbformat_minor": 5
}
